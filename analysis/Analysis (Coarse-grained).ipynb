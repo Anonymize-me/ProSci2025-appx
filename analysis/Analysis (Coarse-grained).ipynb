{
 "cells": [
  {
   "cell_type": "code",
   "execution_count": 1,
   "id": "4edd3688",
   "metadata": {},
   "outputs": [
    {
     "name": "stdout",
     "output_type": "stream",
     "text": [
      "--> Importing bpmn_utils module file.\n",
      "\n",
      "--> Importing grouped_mean module file.\n",
      "\n",
      "--> Importing lhipa_utils module file.\n",
      "\n"
     ]
    }
   ],
   "source": [
    "import sys, os\n",
    "from importlib import reload\n",
    "import json, csv\n",
    "\n",
    "import math , pywt , numpy as np, pandas as pd\n",
    "import scipy.stats as stats, scipy.signal as signal\n",
    "\n",
    "from IPython.display import display, HTML\n",
    "from matplotlib import pyplot as plt\n",
    "\n",
    "\n",
    "from utils import *\n",
    "import constants\n",
    "reload(constants)\n",
    "from constants import *"
   ]
  },
  {
   "cell_type": "markdown",
   "id": "8701e679",
   "metadata": {},
   "source": [
    "## Config & functions"
   ]
  },
  {
   "cell_type": "code",
   "execution_count": 2,
   "id": "ea210641",
   "metadata": {},
   "outputs": [],
   "source": [
    "#---------------------------------------------------\n",
    "#\n",
    "# Config *** TO UPDATE ***\n",
    "#\n",
    "#---------------------------------------------------\n",
    "\n",
    "IMG_DIR = DATA_DIR + 'img'\n",
    "if not os.path.exists(IMG_DIR): os.mkdir(IMG_DIR)\n",
    "\n",
    "EYE_IMOTIONSFEATURES_AND_AOIS_FILE = DATA_DIR + r'\\eventsDataWithAois.csv' \n",
    "PERCEIVED_DIFFICULTY_DATA = DATA_DIR + r'\\perceivedDifficulty.csv'\n",
    "EYEMIND_FULL_DATA = DATA_DIR + r'\\allDataEyeMind.csv'\n",
    "PUPIL_FILTERED_FILE = DATA_DIR + r'\\PupilData_filtered.csv'\n",
    "ANSWERS_DATA = DATA_DIR + r'\\answers.csv'\n",
    "\n",
    "QUESTION_FILE_PARSED = ORIG_DIR + r'\\QuestionSetParsed.csv'\n",
    "QUESTION_DETAILS = ORIG_DIR + r'\\QuestionDetails.csv'\n",
    "\n",
    "DEMOGRAPHIC_DATA = DATA_DIR + r'\\surveys.csv'\n",
    "DEMOGRAPHIC_CATALOG_DATA = DATA_DIR + r'\\surveys_catalog.json'\n",
    "DEMOGRAPHIC_RCATALOG_DATA = DATA_DIR + r'\\surveys_rcatalog.json'"
   ]
  },
  {
   "cell_type": "code",
   "execution_count": 3,
   "id": "967d471c",
   "metadata": {},
   "outputs": [],
   "source": [
    "def identifyTransition(data,rowIndex, familiarized = False):\n",
    "    # /!\\ UPDATE this function when columns in the dataset change /!\\\n",
    "    #\n",
    "    # check that the last row is not reached yet\n",
    "    if rowIndex<data.shape[0]-1:\n",
    "        # check that the participant, task and tabName are the same\n",
    "        if data.iloc[rowIndex]['participant']==data.iloc[rowIndex+1]['participant'] and data.iloc[rowIndex]['currentQuestion']==data.iloc[rowIndex+1]['currentQuestion']  and data.iloc[rowIndex]['tabName']==data.iloc[rowIndex+1]['tabName']:\n",
    "            if familiarized: # add column 'Familiarized'\n",
    "                return pd.Series([data.iloc[rowIndex]['participant'], data.iloc[rowIndex]['Familiarized'],data.iloc[rowIndex]['currentQuestion'],data.iloc[rowIndex]['Type1'],data.iloc[rowIndex]['Type3'],data.iloc[rowIndex]['Type4'],data.iloc[rowIndex]['Type5'],data.iloc[rowIndex]['tabName'],data.iloc[rowIndex]['element'], data.iloc[rowIndex+1]['element'],data.iloc[rowIndex]['ComparisionGroup']]) \n",
    "        return pd.Series([data.iloc[rowIndex]['participant'],data.iloc[rowIndex]['currentQuestion'],data.iloc[rowIndex]['Type1'],data.iloc[rowIndex]['Type3'],data.iloc[rowIndex]['Type4'],data.iloc[rowIndex]['Type5'],data.iloc[rowIndex]['tabName'],data.iloc[rowIndex]['element'], data.iloc[rowIndex+1]['element'],data.iloc[rowIndex]['ComparisionGroup']]) \n",
    "    return pd.Series([np.nan,np.nan,np.nan,np.nan,np.nan,np.nan,np.nan,np.nan,np.nan]) \n"
   ]
  },
  {
   "cell_type": "code",
   "execution_count": 4,
   "id": "fe452398",
   "metadata": {},
   "outputs": [],
   "source": [
    "def plotComparison(pivot_df, y_label=None,\n",
    "                   save=False, fileNames=None):\n",
    "    # Plot\n",
    "    fig, ax = plt.subplots(figsize=(10, 6))\n",
    "    pivot_df.plot(kind='bar', ax=ax)\n",
    "    plt.title('Comparison')\n",
    "    if y_label: plt.ylabel(y_label)\n",
    "    plt.xlabel('Type')\n",
    "    plt.tight_layout()\n",
    "\n",
    "    if save:\n",
    "        if not(fileNames):\n",
    "            fileNames = 'output.png'\n",
    "            print(f'Filename not set. Use default (\"{fileNames}\").')\n",
    "        if isinstance(fileNames, str): fileNames = [fileNames]\n",
    "        for f in fileNames: plt.savefig(f)\n",
    "           \n",
    "    plt.show()"
   ]
  },
  {
   "cell_type": "markdown",
   "id": "294f930e",
   "metadata": {},
   "source": [
    "## Load data\n",
    "Based on the tests in the Data suitability notebook. The data are prepared (read, cleaned, etc.) and some additional informations coming from the different surveys."
   ]
  },
  {
   "cell_type": "code",
   "execution_count": 5,
   "id": "090738d0",
   "metadata": {},
   "outputs": [],
   "source": [
    "### Load Store DataFrames - Pickling\n",
    "###############################################################################\n",
    "\n",
    "PKL_DIR = DATA_DIR + 'pkl2'\n",
    "if os.path.isdir(PKL_DIR):\n",
    "    eifaData = pd.read_pickle(PKL_DIR + r'\\eifaData.pkl')\n",
    "    perceivedDifficultyData = pd.read_pickle(PKL_DIR + r'\\perceivedDifficultyData.pkl')\n",
    "    answersData = pd.read_pickle(PKL_DIR + r'\\answersData.pkl')\n",
    "    questionsFileParsed = pd.read_pickle(PKL_DIR + r'\\questionsFileParsed.pkl')\n",
    "    eyeMindFullData = pd.read_pickle(PKL_DIR + r'\\eyeMindFullData.pkl')\n",
    "    pupiFiltered = pd.read_pickle(PKL_DIR + r'\\pupiFiltered.pkl')\n"
   ]
  },
  {
   "cell_type": "code",
   "execution_count": 6,
   "id": "56bea732",
   "metadata": {},
   "outputs": [
    {
     "data": {
      "application/vnd.microsoft.datawrangler.viewer.v0+json": {
       "columns": [
        {
         "name": "index",
         "rawType": "int64",
         "type": "integer"
        },
        {
         "name": "id",
         "rawType": "int64",
         "type": "integer"
        },
        {
         "name": "question",
         "rawType": "object",
         "type": "string"
        },
        {
         "name": "type",
         "rawType": "object",
         "type": "string"
        },
        {
         "name": "options",
         "rawType": "object",
         "type": "string"
        },
        {
         "name": "TaskId",
         "rawType": "int64",
         "type": "integer"
        },
        {
         "name": "Type1",
         "rawType": "object",
         "type": "string"
        },
        {
         "name": "Type2",
         "rawType": "object",
         "type": "string"
        },
        {
         "name": "Type3",
         "rawType": "object",
         "type": "string"
        },
        {
         "name": "Type4",
         "rawType": "object",
         "type": "string"
        },
        {
         "name": "ComparisionGroup",
         "rawType": "float64",
         "type": "float"
        },
        {
         "name": "DifficultyQuestionID",
         "rawType": "float64",
         "type": "float"
        },
        {
         "name": "GroundTruthAnswer",
         "rawType": "object",
         "type": "string"
        }
       ],
       "ref": "fb536120-fddf-4ec0-9f76-ac711af7aa81",
       "rows": [
        [
         "10",
         "11",
         "In every execution of this process, there is an occurrence of activity AP before any occurrence of activity BN.",
         "multiple-choice",
         "Yes;No;I don't know",
         "6",
         "Fine",
         "MainQuestion",
         "essentialComlexity",
         "Simple",
         "5.0",
         null,
         "yes"
        ],
        [
         "12",
         "13",
         "In this process, if activity BG is executed, activity AZ never occurs, and conversely.",
         "multiple-choice",
         "Yes;No;I don't know",
         "7",
         "Fine",
         "MainQuestion",
         "essentialComlexity",
         "Simple",
         "6.0",
         null,
         "no"
        ],
        [
         "14",
         "15",
         "In every execution of this process, there is an occurrence of activity AO before any occurrence of activity CB.",
         "multiple-choice",
         "Yes;No;I don't know",
         "8",
         "Fine",
         "MainQuestion",
         "essentialComlexity",
         "Complex",
         "5.0",
         null,
         "no"
        ],
        [
         "16",
         "17",
         "In this process, if activity AE is executed, activity AI never occurs, and conversely.",
         "multiple-choice",
         "Yes;No;I don't know",
         "9",
         "Fine",
         "MainQuestion",
         "essentialComlexity",
         "Complex",
         "6.0",
         null,
         "no"
        ],
        [
         "22",
         "23",
         "In every execution of this process, there is an occurrence of activity AA before any occurrence of activity AQ.",
         "multiple-choice",
         "Yes;No;I don't know",
         "12",
         "Fine",
         "MainQuestion",
         "accidentalComlexity",
         "Simple",
         "7.0",
         null,
         "no"
        ],
        [
         "24",
         "25",
         "In this process, activity AR is executed in parallel with activity AJ.",
         "multiple-choice",
         "Yes;No;I don't know",
         "13",
         "Fine",
         "MainQuestion",
         "accidentalComlexity",
         "Simple",
         "8.0",
         null,
         "no"
        ],
        [
         "26",
         "27",
         "In every execution of this process, there is an occurrence of activity AE before any occurrence of activity AP.",
         "multiple-choice",
         "Yes;No;I don't know",
         "14",
         "Fine",
         "MainQuestion",
         "accidentalComlexity",
         "Complex",
         "7.0",
         null,
         "yes"
        ],
        [
         "28",
         "29",
         "In this process, activity AU is executed in parallel with activity AZ.",
         "multiple-choice",
         "Yes;No;I don't know",
         "15",
         "Fine",
         "MainQuestion",
         "accidentalComlexity",
         "Complex",
         "8.0",
         null,
         "yes"
        ]
       ],
       "shape": {
        "columns": 12,
        "rows": 8
       }
      },
      "text/html": [
       "<div>\n",
       "<style scoped>\n",
       "    .dataframe tbody tr th:only-of-type {\n",
       "        vertical-align: middle;\n",
       "    }\n",
       "\n",
       "    .dataframe tbody tr th {\n",
       "        vertical-align: top;\n",
       "    }\n",
       "\n",
       "    .dataframe thead th {\n",
       "        text-align: right;\n",
       "    }\n",
       "</style>\n",
       "<table border=\"1\" class=\"dataframe\">\n",
       "  <thead>\n",
       "    <tr style=\"text-align: right;\">\n",
       "      <th></th>\n",
       "      <th>id</th>\n",
       "      <th>question</th>\n",
       "      <th>type</th>\n",
       "      <th>options</th>\n",
       "      <th>TaskId</th>\n",
       "      <th>Type1</th>\n",
       "      <th>Type2</th>\n",
       "      <th>Type3</th>\n",
       "      <th>Type4</th>\n",
       "      <th>ComparisionGroup</th>\n",
       "      <th>DifficultyQuestionID</th>\n",
       "      <th>GroundTruthAnswer</th>\n",
       "    </tr>\n",
       "  </thead>\n",
       "  <tbody>\n",
       "    <tr>\n",
       "      <th>10</th>\n",
       "      <td>11</td>\n",
       "      <td>In every execution of this process, there is a...</td>\n",
       "      <td>multiple-choice</td>\n",
       "      <td>Yes;No;I don't know</td>\n",
       "      <td>6</td>\n",
       "      <td>Fine</td>\n",
       "      <td>MainQuestion</td>\n",
       "      <td>essentialComlexity</td>\n",
       "      <td>Simple</td>\n",
       "      <td>5.0</td>\n",
       "      <td>NaN</td>\n",
       "      <td>yes</td>\n",
       "    </tr>\n",
       "    <tr>\n",
       "      <th>12</th>\n",
       "      <td>13</td>\n",
       "      <td>In this process, if activity BG is executed, a...</td>\n",
       "      <td>multiple-choice</td>\n",
       "      <td>Yes;No;I don't know</td>\n",
       "      <td>7</td>\n",
       "      <td>Fine</td>\n",
       "      <td>MainQuestion</td>\n",
       "      <td>essentialComlexity</td>\n",
       "      <td>Simple</td>\n",
       "      <td>6.0</td>\n",
       "      <td>NaN</td>\n",
       "      <td>no</td>\n",
       "    </tr>\n",
       "    <tr>\n",
       "      <th>14</th>\n",
       "      <td>15</td>\n",
       "      <td>In every execution of this process, there is a...</td>\n",
       "      <td>multiple-choice</td>\n",
       "      <td>Yes;No;I don't know</td>\n",
       "      <td>8</td>\n",
       "      <td>Fine</td>\n",
       "      <td>MainQuestion</td>\n",
       "      <td>essentialComlexity</td>\n",
       "      <td>Complex</td>\n",
       "      <td>5.0</td>\n",
       "      <td>NaN</td>\n",
       "      <td>no</td>\n",
       "    </tr>\n",
       "    <tr>\n",
       "      <th>16</th>\n",
       "      <td>17</td>\n",
       "      <td>In this process, if activity AE is executed, a...</td>\n",
       "      <td>multiple-choice</td>\n",
       "      <td>Yes;No;I don't know</td>\n",
       "      <td>9</td>\n",
       "      <td>Fine</td>\n",
       "      <td>MainQuestion</td>\n",
       "      <td>essentialComlexity</td>\n",
       "      <td>Complex</td>\n",
       "      <td>6.0</td>\n",
       "      <td>NaN</td>\n",
       "      <td>no</td>\n",
       "    </tr>\n",
       "    <tr>\n",
       "      <th>22</th>\n",
       "      <td>23</td>\n",
       "      <td>In every execution of this process, there is a...</td>\n",
       "      <td>multiple-choice</td>\n",
       "      <td>Yes;No;I don't know</td>\n",
       "      <td>12</td>\n",
       "      <td>Fine</td>\n",
       "      <td>MainQuestion</td>\n",
       "      <td>accidentalComlexity</td>\n",
       "      <td>Simple</td>\n",
       "      <td>7.0</td>\n",
       "      <td>NaN</td>\n",
       "      <td>no</td>\n",
       "    </tr>\n",
       "    <tr>\n",
       "      <th>24</th>\n",
       "      <td>25</td>\n",
       "      <td>In this process, activity AR is executed in pa...</td>\n",
       "      <td>multiple-choice</td>\n",
       "      <td>Yes;No;I don't know</td>\n",
       "      <td>13</td>\n",
       "      <td>Fine</td>\n",
       "      <td>MainQuestion</td>\n",
       "      <td>accidentalComlexity</td>\n",
       "      <td>Simple</td>\n",
       "      <td>8.0</td>\n",
       "      <td>NaN</td>\n",
       "      <td>no</td>\n",
       "    </tr>\n",
       "    <tr>\n",
       "      <th>26</th>\n",
       "      <td>27</td>\n",
       "      <td>In every execution of this process, there is a...</td>\n",
       "      <td>multiple-choice</td>\n",
       "      <td>Yes;No;I don't know</td>\n",
       "      <td>14</td>\n",
       "      <td>Fine</td>\n",
       "      <td>MainQuestion</td>\n",
       "      <td>accidentalComlexity</td>\n",
       "      <td>Complex</td>\n",
       "      <td>7.0</td>\n",
       "      <td>NaN</td>\n",
       "      <td>yes</td>\n",
       "    </tr>\n",
       "    <tr>\n",
       "      <th>28</th>\n",
       "      <td>29</td>\n",
       "      <td>In this process, activity AU is executed in pa...</td>\n",
       "      <td>multiple-choice</td>\n",
       "      <td>Yes;No;I don't know</td>\n",
       "      <td>15</td>\n",
       "      <td>Fine</td>\n",
       "      <td>MainQuestion</td>\n",
       "      <td>accidentalComlexity</td>\n",
       "      <td>Complex</td>\n",
       "      <td>8.0</td>\n",
       "      <td>NaN</td>\n",
       "      <td>yes</td>\n",
       "    </tr>\n",
       "  </tbody>\n",
       "</table>\n",
       "</div>"
      ],
      "text/plain": [
       "    id                                           question             type  \\\n",
       "10  11  In every execution of this process, there is a...  multiple-choice   \n",
       "12  13  In this process, if activity BG is executed, a...  multiple-choice   \n",
       "14  15  In every execution of this process, there is a...  multiple-choice   \n",
       "16  17  In this process, if activity AE is executed, a...  multiple-choice   \n",
       "22  23  In every execution of this process, there is a...  multiple-choice   \n",
       "24  25  In this process, activity AR is executed in pa...  multiple-choice   \n",
       "26  27  In every execution of this process, there is a...  multiple-choice   \n",
       "28  29  In this process, activity AU is executed in pa...  multiple-choice   \n",
       "\n",
       "                options  TaskId Type1         Type2                Type3  \\\n",
       "10  Yes;No;I don't know       6  Fine  MainQuestion   essentialComlexity   \n",
       "12  Yes;No;I don't know       7  Fine  MainQuestion   essentialComlexity   \n",
       "14  Yes;No;I don't know       8  Fine  MainQuestion   essentialComlexity   \n",
       "16  Yes;No;I don't know       9  Fine  MainQuestion   essentialComlexity   \n",
       "22  Yes;No;I don't know      12  Fine  MainQuestion  accidentalComlexity   \n",
       "24  Yes;No;I don't know      13  Fine  MainQuestion  accidentalComlexity   \n",
       "26  Yes;No;I don't know      14  Fine  MainQuestion  accidentalComlexity   \n",
       "28  Yes;No;I don't know      15  Fine  MainQuestion  accidentalComlexity   \n",
       "\n",
       "      Type4  ComparisionGroup  DifficultyQuestionID GroundTruthAnswer  \n",
       "10   Simple               5.0                   NaN               yes  \n",
       "12   Simple               6.0                   NaN                no  \n",
       "14  Complex               5.0                   NaN                no  \n",
       "16  Complex               6.0                   NaN                no  \n",
       "22   Simple               7.0                   NaN                no  \n",
       "24   Simple               8.0                   NaN                no  \n",
       "26  Complex               7.0                   NaN               yes  \n",
       "28  Complex               8.0                   NaN               yes  "
      ]
     },
     "metadata": {},
     "output_type": "display_data"
    },
    {
     "name": "stdout",
     "output_type": "stream",
     "text": [
      "participantIDS:\t['P12', 'P14', 'P16', 'P17', 'P18', 'P21', 'P22', 'P23', 'P24', 'P26', 'P27', 'P28', 'P29', 'P30', 'P31', 'P32', 'P33', 'P35', 'P36', 'P01', 'P11', 'P13', 'P15', 'P25', 'P34']\n",
      "qIDs:\t[11, 13, 15, 17, 23, 25, 27, 29]\n",
      "taskIDs:\t[6, 7, 8, 9, 12, 13, 14, 15]\n"
     ]
    }
   ],
   "source": [
    "participantIDs = list(eifaData['participant'].unique())\n",
    "# Keep task for coarse grained analysis only:\n",
    "# taskIDs = questionsFileParsed.loc[\n",
    "#     (questionsFileParsed['Type1']=='Coarse') & (questionsFileParsed['Type2']=='MainQuestion')\n",
    "# ]['id'].values.tolist()\n",
    "# Keep all tasks (for coarse- and fine-grained analysis):\n",
    "dfQuestions = questionsFileParsed.loc[(questionsFileParsed['Type2']=='MainQuestion') & (questionsFileParsed['Type1']=='Fine'), :]\n",
    "display(dfQuestions)\n",
    "# For verification purpose\n",
    "_questionsOnCompModels = [11, 13, 15, 17, 23, 25, 27, 29]\n",
    "for qID in dfQuestions.id: assert qID in _questionsOnCompModels\n",
    "\n",
    "qIDs = dfQuestions['id'].values.tolist()\n",
    "taskIDs = dfQuestions['TaskId'].values.tolist()\n",
    "\n",
    "print(f\"participantIDS:\\t{participantIDs}\")\n",
    "print(f\"qIDs:\\t{qIDs}\")\n",
    "print(f\"taskIDs:\\t{taskIDs}\")\n"
   ]
  },
  {
   "cell_type": "markdown",
   "id": "07750927",
   "metadata": {},
   "source": [
    "### Add Task complexity - column Type5 \n",
    "\n",
    "'Type5' extends 'Type4'. Whereas Type4 tells wether or not the models are complex with \"simple\" and \"complex\" labels, Type5 tells, for composed models, whether the task is targeting the simple or complex part of the model with \"ComposedSimple\" and \"ComposedComplex\" labels, respectively."
   ]
  },
  {
   "cell_type": "code",
   "execution_count": 7,
   "id": "0a823af0",
   "metadata": {},
   "outputs": [],
   "source": [
    "### Add column 'Type5'\n",
    "###############################################################################\n",
    "# Update the datasets with a tag for composed models (with simple and complex \n",
    "# parts).\n",
    "\n",
    "eifaData['Type5'] = eifaData['Type4']\n",
    "\n",
    "eifaData.loc[ \n",
    "    eifaData['TaskId'].isin(taskIDs) & (eifaData['Type4'] == 'Simple'),\n",
    "    ['Type5']\n",
    "] = 'ComposedSimple'\n",
    "eifaData.loc[ \n",
    "    eifaData['TaskId'].isin(taskIDs) & (eifaData['Type4'] == 'Complex'),\n",
    "    ['Type5']\n",
    "] = 'ComposedComplex'\n",
    "\n",
    "\n",
    "perceivedDifficultyData['Type5'] = perceivedDifficultyData['Type4']\n",
    "\n",
    "perceivedDifficultyData.loc[ \n",
    "    perceivedDifficultyData['MainQuestionID'].isin(qIDs) & (perceivedDifficultyData['Type4'] == 'Simple'),\n",
    "    ['Type5']\n",
    "] = 'ComposedSimple'\n",
    "perceivedDifficultyData.loc[ \n",
    "    perceivedDifficultyData['MainQuestionID'].isin(qIDs) & (perceivedDifficultyData['Type4'] == 'Complex'),\n",
    "    ['Type5']\n",
    "] = 'ComposedComplex'\n",
    "\n",
    "\n",
    "\n",
    "answersData['Type5'] = answersData['Type4']\n",
    "\n",
    "answersData.loc[ \n",
    "    answersData['questionID'].isin(qIDs) & (answersData['Type4'] == 'Simple'),\n",
    "    ['Type5']\n",
    "] = 'ComposedSimple'\n",
    "answersData.loc[ \n",
    "    answersData['questionID'].isin(qIDs) & (answersData['Type4'] == 'Complex'),\n",
    "    ['Type5']\n",
    "] = 'ComposedComplex'\n",
    "\n",
    "\n",
    "\n",
    "pupiFiltered['Type5'] = pupiFiltered['Type4']\n",
    "\n",
    "pupiFiltered.loc[ \n",
    "    pupiFiltered['TaskId'].isin(taskIDs) & (pupiFiltered['Type4'] == 'Simple'),\n",
    "    ['Type5']\n",
    "] = 'ComposedSimple'\n",
    "pupiFiltered.loc[ \n",
    "    pupiFiltered['TaskId'].isin(taskIDs) & (pupiFiltered['Type4'] == 'Complex'),\n",
    "    ['Type5']\n",
    "] = 'ComposedComplex'\n"
   ]
  },
  {
   "cell_type": "markdown",
   "id": "c811429d",
   "metadata": {},
   "source": [
    "### Store DataFrames\n",
    "\n",
    "(The loading cell right after allows to quickly get back the prepared data.\n",
    "\n",
    "/!\\ Run the first cells for libraries, constants and function definitions. /!\\ )"
   ]
  },
  {
   "cell_type": "code",
   "execution_count": 8,
   "id": "4ea4948e",
   "metadata": {},
   "outputs": [],
   "source": [
    "### Store DataFrames - Pickling\n",
    "PKL_DIR = DATA_DIR + 'pkl2'\n",
    "if not os.path.isdir(PKL_DIR):\n",
    "    os.mkdir(PKL_DIR)\n",
    "\n",
    "eifaData.to_pickle(PKL_DIR + r'\\eifaData.pkl')\n",
    "perceivedDifficultyData.to_pickle(PKL_DIR + r'\\perceivedDifficultyData.pkl')\n",
    "answersData.to_pickle(PKL_DIR + r'\\answersData.pkl')\n",
    "questionsFileParsed.to_pickle(PKL_DIR + r'\\questionsFileParsed.pkl')\n",
    "eyeMindFullData.to_pickle(PKL_DIR + r'\\eyeMindFullData.pkl')\n",
    "pupiFiltered.to_pickle(PKL_DIR + r'\\pupiFiltered.pkl')"
   ]
  },
  {
   "cell_type": "code",
   "execution_count": 9,
   "id": "0fdc68e7",
   "metadata": {},
   "outputs": [],
   "source": [
    "### Load DataFrames - Pickling\n",
    "PKL_DIR = DATA_DIR + 'pkl2'\n",
    "if os.path.isdir(PKL_DIR):\n",
    "    eifaData = pd.read_pickle(PKL_DIR + r'\\eifaData.pkl')\n",
    "    perceivedDifficultyData = pd.read_pickle(PKL_DIR + r'\\perceivedDifficultyData.pkl')\n",
    "    answersData = pd.read_pickle(PKL_DIR + r'\\answersData.pkl')\n",
    "    questionsFileParsed = pd.read_pickle(PKL_DIR + r'\\questionsFileParsed.pkl')\n",
    "    eyeMindFullData = pd.read_pickle(PKL_DIR + r'\\eyeMindFullData.pkl')\n",
    "    pupiFiltered = pd.read_pickle(PKL_DIR + r'\\pupiFiltered.pkl')\n"
   ]
  },
  {
   "cell_type": "markdown",
   "id": "2b9f630f",
   "metadata": {},
   "source": [
    "## Cognitive load Measures"
   ]
  },
  {
   "cell_type": "markdown",
   "id": "7a8a5f4b",
   "metadata": {},
   "source": [
    "#### Subjective measures"
   ]
  },
  {
   "cell_type": "code",
   "execution_count": 10,
   "id": "238f5425",
   "metadata": {},
   "outputs": [
    {
     "data": {
      "application/vnd.microsoft.datawrangler.viewer.v0+json": {
       "columns": [
        {
         "name": "Type3",
         "rawType": "object",
         "type": "string"
        },
        {
         "name": "Simple",
         "rawType": "float64",
         "type": "float"
        },
        {
         "name": "Complex",
         "rawType": "float64",
         "type": "float"
        },
        {
         "name": "ComposedSimple",
         "rawType": "float64",
         "type": "float"
        },
        {
         "name": "ComposedComplex",
         "rawType": "float64",
         "type": "float"
        }
       ],
       "ref": "ff4b8b01-621a-4204-9847-74c1e00172f2",
       "rows": [
        [
         "accidentalComlexity",
         "0.62",
         "2.28",
         "0.9",
         "1.98"
        ],
        [
         "essentialComlexity",
         "0.62",
         "2.36",
         "1.1",
         "2.28"
        ]
       ],
       "shape": {
        "columns": 4,
        "rows": 2
       }
      },
      "text/html": [
       "<div>\n",
       "<style scoped>\n",
       "    .dataframe tbody tr th:only-of-type {\n",
       "        vertical-align: middle;\n",
       "    }\n",
       "\n",
       "    .dataframe tbody tr th {\n",
       "        vertical-align: top;\n",
       "    }\n",
       "\n",
       "    .dataframe thead th {\n",
       "        text-align: right;\n",
       "    }\n",
       "</style>\n",
       "<table border=\"1\" class=\"dataframe\">\n",
       "  <thead>\n",
       "    <tr style=\"text-align: right;\">\n",
       "      <th>Type5</th>\n",
       "      <th>Simple</th>\n",
       "      <th>Complex</th>\n",
       "      <th>ComposedSimple</th>\n",
       "      <th>ComposedComplex</th>\n",
       "    </tr>\n",
       "    <tr>\n",
       "      <th>Type3</th>\n",
       "      <th></th>\n",
       "      <th></th>\n",
       "      <th></th>\n",
       "      <th></th>\n",
       "    </tr>\n",
       "  </thead>\n",
       "  <tbody>\n",
       "    <tr>\n",
       "      <th>accidentalComlexity</th>\n",
       "      <td>0.62</td>\n",
       "      <td>2.28</td>\n",
       "      <td>0.9</td>\n",
       "      <td>1.98</td>\n",
       "    </tr>\n",
       "    <tr>\n",
       "      <th>essentialComlexity</th>\n",
       "      <td>0.62</td>\n",
       "      <td>2.36</td>\n",
       "      <td>1.1</td>\n",
       "      <td>2.28</td>\n",
       "    </tr>\n",
       "  </tbody>\n",
       "</table>\n",
       "</div>"
      ],
      "text/plain": [
       "Type5                Simple  Complex  ComposedSimple  ComposedComplex\n",
       "Type3                                                                \n",
       "accidentalComlexity    0.62     2.28             0.9             1.98\n",
       "essentialComlexity     0.62     2.36             1.1             2.28"
      ]
     },
     "metadata": {},
     "output_type": "display_data"
    },
    {
     "name": "stdout",
     "output_type": "stream",
     "text": [
      "essentialComlexity\n",
      "Simple vs Complex: p-value = 1.4210854715202004e-14\n",
      "ComposedSimple vs ComposedComplex: p-value = 2.2637323127128184e-09\n"
     ]
    },
    {
     "data": {
      "text/html": [
       "<span style='color: green;'>Simple vs Complex, N = 47: p-value = 1.4210854715202004e-14</span>"
      ],
      "text/plain": [
       "<IPython.core.display.HTML object>"
      ]
     },
     "metadata": {},
     "output_type": "display_data"
    },
    {
     "data": {
      "text/html": [
       "<span style='color: green;'>ComposedSimple vs ComposedComplex, N = 42: p-value = 2.2637323127128184e-09</span>"
      ],
      "text/plain": [
       "<IPython.core.display.HTML object>"
      ]
     },
     "metadata": {},
     "output_type": "display_data"
    },
    {
     "name": "stdout",
     "output_type": "stream",
     "text": [
      "accidentalComlexity\n",
      "Simple vs Complex: p-value = 2.2737367544323206e-13\n",
      "ComposedSimple vs ComposedComplex: p-value = 1.1688825907185674e-08\n"
     ]
    },
    {
     "data": {
      "text/html": [
       "<span style='color: green;'>Simple vs Complex, N = 43: p-value = 2.2737367544323206e-13</span>"
      ],
      "text/plain": [
       "<IPython.core.display.HTML object>"
      ]
     },
     "metadata": {},
     "output_type": "display_data"
    },
    {
     "data": {
      "text/html": [
       "<span style='color: green;'>ComposedSimple vs ComposedComplex, N = 39: p-value = 1.1688825907185674e-08</span>"
      ],
      "text/plain": [
       "<IPython.core.display.HTML object>"
      ]
     },
     "metadata": {},
     "output_type": "display_data"
    },
    {
     "data": {
      "image/png": "[encoded data removed]",
      "text/plain": [
       "<Figure size 1000x600 with 1 Axes>"
      ]
     },
     "metadata": {},
     "output_type": "display_data"
    }
   ],
   "source": [
    "### PERCEIVED DIFFICULTY\n",
    "measure = 'Difficulty Score'\n",
    "col = 'difficultyScore'\n",
    "\n",
    "_df = perceivedDifficultyData\n",
    "\n",
    "# means = compute_grouped_mean(perceivedDifficultyData, ['Type4','Type3'], ['participant', 'MainQuestionID'], col, additional_filters= {\n",
    "#     'Type1':'Coarse'\n",
    "#     })\n",
    "# means = compute_grouped_mean(_df, ['Type5','Type3'], ['participant', 'MainQuestionID'], col, additional_filters= {})\n",
    "means, _ = compute_grouped_mean(_df, ['Type5','Type3'], ['participant', 'MainQuestionID'], col, \n",
    "                                measure_type='default', measure_type_attr={}, keepExactValues = False,\n",
    "                                measure_out=None, \n",
    "                                additional_filters=None)\n",
    "\n",
    "# Pivot the table\n",
    "# pivot_df = means.pivot_table(index='Type3', columns='Type4', values=col)\n",
    "pivot_df = means.pivot_table(index='Type3', columns='Type5', values=col)\n",
    "pivot_df = pivot_df.loc[:,['Simple', 'Complex', 'ComposedSimple', 'ComposedComplex']]\n",
    "# Display the pivoted data\n",
    "display(pivot_df)\n",
    "\n",
    "conditions = [('Simple', 'Complex'), ('ComposedSimple', 'ComposedComplex')]\n",
    "for type3 in ['essentialComlexity','accidentalComlexity']:\n",
    "    print(type3)\n",
    "    # res = inf_test(perceivedDifficultyData, ['participant', 'ComparisionGroup','questionID','Type4','Type3'], col, 'Type4', conditions, additional_filters=\n",
    "    #                             {\n",
    "    #                              'Type1': 'Fine',\n",
    "    #                             'Type3': type3})\n",
    "    _grouped_col = ['participant', 'ComparisionGroup','questionID','Type5','Type3']\n",
    "    _conditionsMergeOn = _grouped_col[:2]\n",
    "    _mergeCols = _grouped_col[:3]\n",
    "    _stat, _p, _n = inferenceTest(_df, \n",
    "                                  _grouped_col, col, 'mean', \n",
    "                                  'Type5', conditions, _conditionsMergeOn, _mergeCols, \n",
    "                                  additional_filters = {'Type3': type3})\n",
    "    \n",
    "    for _i in range(len(conditions)):\n",
    "        display(HTML(f\"<span style='color: {'green' if _p[_i] < 0.05 else 'red'};'>\" +\n",
    "                     f\"{conditions[_i][0]} vs {conditions[_i][1]}, N = {_n[_i]}: p-value = {_p[_i]}</span>\"))\n",
    "\n",
    "comparison_survey = {'label': measure, 'means': means, 'pivot': pivot_df, 'measure': col}\n",
    "\n",
    "plotComparison(pivot_df, measure)\n"
   ]
  },
  {
   "cell_type": "markdown",
   "id": "6a6f6917",
   "metadata": {},
   "source": [
    "#### Performance Measures"
   ]
  },
  {
   "cell_type": "code",
   "execution_count": 11,
   "id": "f30b4d2e",
   "metadata": {},
   "outputs": [
    {
     "data": {
      "application/vnd.microsoft.datawrangler.viewer.v0+json": {
       "columns": [
        {
         "name": "Type3",
         "rawType": "object",
         "type": "string"
        },
        {
         "name": "Simple",
         "rawType": "float64",
         "type": "float"
        },
        {
         "name": "Complex",
         "rawType": "float64",
         "type": "float"
        },
        {
         "name": "ComposedSimple",
         "rawType": "float64",
         "type": "float"
        },
        {
         "name": "ComposedComplex",
         "rawType": "float64",
         "type": "float"
        }
       ],
       "ref": "1dbbbb43-55c1-414f-a29c-67cb5a12a23e",
       "rows": [
        [
         "accidentalComlexity",
         "0.98",
         "0.88",
         "0.92",
         "0.8"
        ],
        [
         "essentialComlexity",
         "0.98",
         "0.66",
         "0.94",
         "0.72"
        ]
       ],
       "shape": {
        "columns": 4,
        "rows": 2
       }
      },
      "text/html": [
       "<div>\n",
       "<style scoped>\n",
       "    .dataframe tbody tr th:only-of-type {\n",
       "        vertical-align: middle;\n",
       "    }\n",
       "\n",
       "    .dataframe tbody tr th {\n",
       "        vertical-align: top;\n",
       "    }\n",
       "\n",
       "    .dataframe thead th {\n",
       "        text-align: right;\n",
       "    }\n",
       "</style>\n",
       "<table border=\"1\" class=\"dataframe\">\n",
       "  <thead>\n",
       "    <tr style=\"text-align: right;\">\n",
       "      <th>Type5</th>\n",
       "      <th>Simple</th>\n",
       "      <th>Complex</th>\n",
       "      <th>ComposedSimple</th>\n",
       "      <th>ComposedComplex</th>\n",
       "    </tr>\n",
       "    <tr>\n",
       "      <th>Type3</th>\n",
       "      <th></th>\n",
       "      <th></th>\n",
       "      <th></th>\n",
       "      <th></th>\n",
       "    </tr>\n",
       "  </thead>\n",
       "  <tbody>\n",
       "    <tr>\n",
       "      <th>accidentalComlexity</th>\n",
       "      <td>0.98</td>\n",
       "      <td>0.88</td>\n",
       "      <td>0.92</td>\n",
       "      <td>0.80</td>\n",
       "    </tr>\n",
       "    <tr>\n",
       "      <th>essentialComlexity</th>\n",
       "      <td>0.98</td>\n",
       "      <td>0.66</td>\n",
       "      <td>0.94</td>\n",
       "      <td>0.72</td>\n",
       "    </tr>\n",
       "  </tbody>\n",
       "</table>\n",
       "</div>"
      ],
      "text/plain": [
       "Type5                Simple  Complex  ComposedSimple  ComposedComplex\n",
       "Type3                                                                \n",
       "accidentalComlexity    0.98     0.88            0.92             0.80\n",
       "essentialComlexity     0.98     0.66            0.94             0.72"
      ]
     },
     "metadata": {},
     "output_type": "display_data"
    },
    {
     "name": "stdout",
     "output_type": "stream",
     "text": [
      "essentialComlexity\n",
      "Simple vs Complex: p-value = 0.00032806396484375\n",
      "ComposedSimple vs ComposedComplex: p-value = 0.0009765625\n"
     ]
    },
    {
     "data": {
      "text/html": [
       "<span style='color: green;'>Simple vs Complex, N = 18: p-value = 0.00032806396484375</span>"
      ],
      "text/plain": [
       "<IPython.core.display.HTML object>"
      ]
     },
     "metadata": {},
     "output_type": "display_data"
    },
    {
     "data": {
      "text/html": [
       "<span style='color: green;'>ComposedSimple vs ComposedComplex, N = 11: p-value = 0.0009765625</span>"
      ],
      "text/plain": [
       "<IPython.core.display.HTML object>"
      ]
     },
     "metadata": {},
     "output_type": "display_data"
    },
    {
     "name": "stdout",
     "output_type": "stream",
     "text": [
      "accidentalComlexity\n",
      "Simple vs Complex: p-value = 0.0625\n",
      "ComposedSimple vs ComposedComplex: p-value = 0.172607421875\n"
     ]
    },
    {
     "data": {
      "text/html": [
       "<span style='color: red;'>Simple vs Complex, N = 5: p-value = 0.0625</span>"
      ],
      "text/plain": [
       "<IPython.core.display.HTML object>"
      ]
     },
     "metadata": {},
     "output_type": "display_data"
    },
    {
     "data": {
      "text/html": [
       "<span style='color: red;'>ComposedSimple vs ComposedComplex, N = 14: p-value = 0.172607421875</span>"
      ],
      "text/plain": [
       "<IPython.core.display.HTML object>"
      ]
     },
     "metadata": {},
     "output_type": "display_data"
    },
    {
     "data": {
      "image/png": "[encoded data removed]",
      "text/plain": [
       "<Figure size 1000x600 with 1 Axes>"
      ]
     },
     "metadata": {},
     "output_type": "display_data"
    }
   ],
   "source": [
    "### Answer accuracy\n",
    "measure = 'Response accuracy'\n",
    "col = 'accuracy'\n",
    "\n",
    "_df = answersData\n",
    "\n",
    "# means = compute_grouped_mean(answersData, ['Type4','Type3'], ['participant', 'questionID'], col, additional_filters= {\n",
    "#     'Type1':'Coarse',\n",
    "#     })\n",
    "# means = compute_grouped_mean(_df, ['Type5','Type3'], ['participant', 'questionID'], col, additional_filters= {})\n",
    "means, _ = compute_grouped_mean(_df, ['Type5','Type3'], ['participant', 'questionID'], col, \n",
    "                                measure_type='default', measure_type_attr={}, keepExactValues = False,\n",
    "                                measure_out=None, \n",
    "                                additional_filters=None)\n",
    "\n",
    "\n",
    "# Pivot the table\n",
    "# pivot_df = means.pivot_table(index='Type3', columns='Type4', values=col)\n",
    "pivot_df = means.pivot_table(index='Type3', columns='Type5', values=col)\n",
    "pivot_df = pivot_df.loc[:,['Simple', 'Complex', 'ComposedSimple', 'ComposedComplex']]\n",
    "# Display the pivoted data\n",
    "display(pivot_df)\n",
    "\n",
    "conditions = [('Simple', 'Complex'), ('ComposedSimple', 'ComposedComplex')]\n",
    "for type3 in ['essentialComlexity','accidentalComlexity']:\n",
    "    print(type3)\n",
    "    # res = inf_test(answersData, ['participant', 'ComparisionGroup','questionID','Type4','Type3'], col, 'Type4', conditions, additional_filters=\n",
    "    #                             {\n",
    "    #                              'Type1': 'Coarse',\n",
    "    #                             'Type3': type3})\n",
    "    _grouped_col = ['participant', 'ComparisionGroup','questionID','Type5','Type3']\n",
    "    _conditionsMergeOn = _grouped_col[:2]\n",
    "    _mergeCols = _grouped_col[:3]\n",
    "    _stat, _p, _n = inferenceTest(_df, \n",
    "                                  _grouped_col, col, 'mean', \n",
    "                                  'Type5', conditions, _conditionsMergeOn, _mergeCols, \n",
    "                                  additional_filters = {'Type3': type3})\n",
    "    for _i in range(len(conditions)):\n",
    "        display(HTML(f\"<span style='color: {'green' if _p[_i] < 0.05 else 'red'};'>\" +\n",
    "                     f\"{conditions[_i][0]} vs {conditions[_i][1]}, N = {_n[_i]}: p-value = {_p[_i]}</span>\"))\n",
    "    \n",
    "\n",
    "comparison_answers = {'label': measure, 'means': means, 'pivot': pivot_df, 'measure': col}\n",
    "\n",
    "plotComparison(pivot_df, measure)\n",
    "\n",
    "#may need more participants"
   ]
  },
  {
   "cell_type": "code",
   "execution_count": 12,
   "id": "0522a236",
   "metadata": {},
   "outputs": [
    {
     "data": {
      "application/vnd.microsoft.datawrangler.viewer.v0+json": {
       "columns": [
        {
         "name": "Type3",
         "rawType": "object",
         "type": "string"
        },
        {
         "name": "Simple",
         "rawType": "float64",
         "type": "float"
        },
        {
         "name": "Complex",
         "rawType": "float64",
         "type": "float"
        },
        {
         "name": "ComposedSimple",
         "rawType": "float64",
         "type": "float"
        },
        {
         "name": "ComposedComplex",
         "rawType": "float64",
         "type": "float"
        }
       ],
       "ref": "69d991ca-de3e-4ca2-b3b3-75daf84f9ac5",
       "rows": [
        [
         "accidentalComlexity",
         "44935.823918367154",
         "104006.68183999974",
         "62346.88054000005",
         "95297.91308000032"
        ],
        [
         "essentialComlexity",
         "44935.823918367154",
         "145131.19424000004",
         "89856.76145999957",
         "143678.8730600001"
        ]
       ],
       "shape": {
        "columns": 4,
        "rows": 2
       }
      },
      "text/html": [
       "<div>\n",
       "<style scoped>\n",
       "    .dataframe tbody tr th:only-of-type {\n",
       "        vertical-align: middle;\n",
       "    }\n",
       "\n",
       "    .dataframe tbody tr th {\n",
       "        vertical-align: top;\n",
       "    }\n",
       "\n",
       "    .dataframe thead th {\n",
       "        text-align: right;\n",
       "    }\n",
       "</style>\n",
       "<table border=\"1\" class=\"dataframe\">\n",
       "  <thead>\n",
       "    <tr style=\"text-align: right;\">\n",
       "      <th>Type5</th>\n",
       "      <th>Simple</th>\n",
       "      <th>Complex</th>\n",
       "      <th>ComposedSimple</th>\n",
       "      <th>ComposedComplex</th>\n",
       "    </tr>\n",
       "    <tr>\n",
       "      <th>Type3</th>\n",
       "      <th></th>\n",
       "      <th></th>\n",
       "      <th></th>\n",
       "      <th></th>\n",
       "    </tr>\n",
       "  </thead>\n",
       "  <tbody>\n",
       "    <tr>\n",
       "      <th>accidentalComlexity</th>\n",
       "      <td>44935.823918</td>\n",
       "      <td>104006.68184</td>\n",
       "      <td>62346.88054</td>\n",
       "      <td>95297.91308</td>\n",
       "    </tr>\n",
       "    <tr>\n",
       "      <th>essentialComlexity</th>\n",
       "      <td>44935.823918</td>\n",
       "      <td>145131.19424</td>\n",
       "      <td>89856.76146</td>\n",
       "      <td>143678.87306</td>\n",
       "    </tr>\n",
       "  </tbody>\n",
       "</table>\n",
       "</div>"
      ],
      "text/plain": [
       "Type5                      Simple       Complex  ComposedSimple  \\\n",
       "Type3                                                             \n",
       "accidentalComlexity  44935.823918  104006.68184     62346.88054   \n",
       "essentialComlexity   44935.823918  145131.19424     89856.76146   \n",
       "\n",
       "Type5                ComposedComplex  \n",
       "Type3                                 \n",
       "accidentalComlexity      95297.91308  \n",
       "essentialComlexity      143678.87306  "
      ]
     },
     "metadata": {},
     "output_type": "display_data"
    },
    {
     "name": "stdout",
     "output_type": "stream",
     "text": [
      "essentialComlexity\n",
      "Simple vs Complex: p-value = 3.552713678800501e-15\n",
      "ComposedSimple vs ComposedComplex: p-value = 4.2364032282193875e-08\n"
     ]
    },
    {
     "data": {
      "text/html": [
       "<span style='color: green;'>Simple vs Complex, N = 49: p-value = 3.552713678800501e-15</span>"
      ],
      "text/plain": [
       "<IPython.core.display.HTML object>"
      ]
     },
     "metadata": {},
     "output_type": "display_data"
    },
    {
     "data": {
      "text/html": [
       "<span style='color: green;'>ComposedSimple vs ComposedComplex, N = 50: p-value = 4.2364032282193875e-08</span>"
      ],
      "text/plain": [
       "<IPython.core.display.HTML object>"
      ]
     },
     "metadata": {},
     "output_type": "display_data"
    },
    {
     "name": "stdout",
     "output_type": "stream",
     "text": [
      "accidentalComlexity\n",
      "Simple vs Complex: p-value = 3.552713678800501e-15\n",
      "ComposedSimple vs ComposedComplex: p-value = 1.859966783257505e-06\n"
     ]
    },
    {
     "data": {
      "text/html": [
       "<span style='color: green;'>Simple vs Complex, N = 49: p-value = 3.552713678800501e-15</span>"
      ],
      "text/plain": [
       "<IPython.core.display.HTML object>"
      ]
     },
     "metadata": {},
     "output_type": "display_data"
    },
    {
     "data": {
      "text/html": [
       "<span style='color: green;'>ComposedSimple vs ComposedComplex, N = 50: p-value = 1.859966783257505e-06</span>"
      ],
      "text/plain": [
       "<IPython.core.display.HTML object>"
      ]
     },
     "metadata": {},
     "output_type": "display_data"
    },
    {
     "data": {
      "image/png": "[encoded data removed]",
      "text/plain": [
       "<Figure size 1000x600 with 1 Axes>"
      ]
     },
     "metadata": {},
     "output_type": "display_data"
    }
   ],
   "source": [
    "### Comprehension Time\n",
    "#\n",
    "# \n",
    "measure = 'Comprehension Time'\n",
    "col = 'ComprehensionTime'\n",
    "\n",
    "# Keep only MainQuestions\n",
    "f_eifaData = eifaData[eifaData['Type2'] == 'MainQuestion'].copy(deep=True)\n",
    "# Group \n",
    "# f_eifaData_gr = f_eifaData.groupby(['participant','currentQuestion','Type1','Type2','Type3','Type4','ComparisionGroup'], as_index=False)\n",
    "f_eifaData_gr = f_eifaData.groupby(['participant','currentQuestion','Type3','Type5','ComparisionGroup'], as_index=False)\n",
    "# Perform aggregations on grouping:\n",
    "agg_f_eifaData = f_eifaData_gr.agg(\n",
    "     newAggCol=('Timestamp', (lambda x: x.iloc[-1]-x.iloc[0])),\n",
    ")\n",
    "agg_f_eifaData.rename(columns={'newAggCol': col}, inplace=True)\n",
    "#flatten\n",
    "agg_f_eifaData = agg_f_eifaData.reset_index()\n",
    "\n",
    "_df = agg_f_eifaData\n",
    "\n",
    "# means = compute_grouped_mean(agg_f_eifaData, ['Type3','Type4'], ['participant', 'currentQuestion'], \n",
    "#     measure_col = col,\n",
    "#     additional_filters = {\n",
    "#         'Type2':'MainQuestion',\n",
    "#         'Type1':'Coarse',\n",
    "#     })\n",
    "# means = compute_grouped_mean(_df, ['Type3','Type5'], ['participant', 'currentQuestion'], \n",
    "#     measure_col = col,\n",
    "#     additional_filters = {})\n",
    "means, _ = compute_grouped_mean(_df, ['Type3','Type5'], ['participant', 'currentQuestion'], col, \n",
    "                                measure_type='default', measure_type_attr={}, keepExactValues = False,\n",
    "                                measure_out=None, \n",
    "                                additional_filters=None)\n",
    "\n",
    "# Pivot the table\n",
    "# pivot_df = means.pivot_table(index='Type3', columns='Type4', values=col)\n",
    "pivot_df = means.pivot_table(index='Type3', columns='Type5', values=col)\n",
    "pivot_df = pivot_df.loc[:,['Simple', 'Complex', 'ComposedSimple', 'ComposedComplex']]\n",
    "# Display the pivoted data\n",
    "display(pivot_df)\n",
    "\n",
    "# to double check\n",
    "conditions = [('Simple', 'Complex'), ('ComposedSimple', 'ComposedComplex')]\n",
    "for type3 in ['essentialComlexity','accidentalComlexity']:\n",
    "    print(type3)\n",
    "    # res = inf_test(agg_f_eifaData, \n",
    "    #                ['participant', 'ComparisionGroup','currentQuestion','Type4','Type3'], \n",
    "    #                col, 'Type4', conditions, \n",
    "    #                additional_filters= {\n",
    "    #                    'Type2': 'MainQuestion',\n",
    "    #                    'Type1': 'Coarse',\n",
    "    #                    'Type3': type3\n",
    "    #                 }\n",
    "    # )\n",
    "    _grouped_col = ['participant', 'ComparisionGroup','currentQuestion','Type5','Type3']\n",
    "    _conditionsMergeOn = _grouped_col[:2]\n",
    "    _mergeCols = _grouped_col[:3]\n",
    "    _stat, _p, _n = inferenceTest(_df, \n",
    "                                  _grouped_col, col, 'mean', \n",
    "                                  'Type5', conditions, _conditionsMergeOn, _mergeCols, \n",
    "                                  additional_filters = {'Type3': type3})\n",
    "    \n",
    "    for _i in range(len(conditions)):\n",
    "        display(HTML(f\"<span style='color: {'green' if _p[_i] < 0.05 else 'red'};'>\" +\n",
    "                     f\"{conditions[_i][0]} vs {conditions[_i][1]}, N = {_n[_i]}: p-value = {_p[_i]}</span>\"))\n",
    "\n",
    "comparison_time = {'label': measure, 'means': means, 'pivot': pivot_df, 'measure': col}\n",
    "\n",
    "plotComparison(pivot_df, measure)"
   ]
  },
  {
   "cell_type": "markdown",
   "id": "3546720a",
   "metadata": {},
   "source": [
    "#### Behavioral Measures"
   ]
  },
  {
   "cell_type": "code",
   "execution_count": null,
   "id": "2621f810",
   "metadata": {},
   "outputs": [
    {
     "data": {
      "application/vnd.microsoft.datawrangler.viewer.v0+json": {
       "columns": [
        {
         "name": "Type3",
         "rawType": "object",
         "type": "string"
        },
        {
         "name": "Simple",
         "rawType": "float64",
         "type": "float"
        },
        {
         "name": "Complex",
         "rawType": "float64",
         "type": "float"
        },
        {
         "name": "ComposedSimple",
         "rawType": "float64",
         "type": "float"
        },
        {
         "name": "ComposedComplex",
         "rawType": "float64",
         "type": "float"
        }
       ],
       "ref": "e24e33e9-24c9-42a3-9241-179fce7c3ef7",
       "rows": [
        [
         "accidentalComlexity",
         "88.10204081632654",
         "204.52",
         "122.64",
         "180.08"
        ],
        [
         "essentialComlexity",
         "88.12244897959184",
         "232.0",
         "156.98",
         "242.54"
        ]
       ],
       "shape": {
        "columns": 4,
        "rows": 2
       }
      },
      "text/html": [
       "<div>\n",
       "<style scoped>\n",
       "    .dataframe tbody tr th:only-of-type {\n",
       "        vertical-align: middle;\n",
       "    }\n",
       "\n",
       "    .dataframe tbody tr th {\n",
       "        vertical-align: top;\n",
       "    }\n",
       "\n",
       "    .dataframe thead th {\n",
       "        text-align: right;\n",
       "    }\n",
       "</style>\n",
       "<table border=\"1\" class=\"dataframe\">\n",
       "  <thead>\n",
       "    <tr style=\"text-align: right;\">\n",
       "      <th>Type5</th>\n",
       "      <th>Simple</th>\n",
       "      <th>Complex</th>\n",
       "      <th>ComposedSimple</th>\n",
       "      <th>ComposedComplex</th>\n",
       "    </tr>\n",
       "    <tr>\n",
       "      <th>Type3</th>\n",
       "      <th></th>\n",
       "      <th></th>\n",
       "      <th></th>\n",
       "      <th></th>\n",
       "    </tr>\n",
       "  </thead>\n",
       "  <tbody>\n",
       "    <tr>\n",
       "      <th>accidentalComlexity</th>\n",
       "      <td>88.102041</td>\n",
       "      <td>204.52</td>\n",
       "      <td>122.64</td>\n",
       "      <td>180.08</td>\n",
       "    </tr>\n",
       "    <tr>\n",
       "      <th>essentialComlexity</th>\n",
       "      <td>88.122449</td>\n",
       "      <td>232.00</td>\n",
       "      <td>156.98</td>\n",
       "      <td>242.54</td>\n",
       "    </tr>\n",
       "  </tbody>\n",
       "</table>\n",
       "</div>"
      ],
      "text/plain": [
       "Type5                   Simple  Complex  ComposedSimple  ComposedComplex\n",
       "Type3                                                                   \n",
       "accidentalComlexity  88.102041   204.52          122.64           180.08\n",
       "essentialComlexity   88.122449   232.00          156.98           242.54"
      ]
     },
     "metadata": {},
     "output_type": "display_data"
    },
    {
     "name": "stdout",
     "output_type": "stream",
     "text": [
      "essentialComlexity\n",
      "Simple vs Complex: p-value = 6.750155989720952e-14\n",
      "ComposedSimple vs ComposedComplex: p-value = 4.521505763577238e-06\n"
     ]
    },
    {
     "data": {
      "text/html": [
       "<span style='color: green;'>Simple vs Complex, N = 49: p-value = 6.750155989720952e-14</span>"
      ],
      "text/plain": [
       "<IPython.core.display.HTML object>"
      ]
     },
     "metadata": {},
     "output_type": "display_data"
    },
    {
     "data": {
      "text/html": [
       "<span style='color: green;'>ComposedSimple vs ComposedComplex, N = 50: p-value = 4.521505763577238e-06</span>"
      ],
      "text/plain": [
       "<IPython.core.display.HTML object>"
      ]
     },
     "metadata": {},
     "output_type": "display_data"
    },
    {
     "name": "stdout",
     "output_type": "stream",
     "text": [
      "accidentalComlexity\n",
      "Simple vs Complex: p-value = 7.105427357601002e-15\n",
      "ComposedSimple vs ComposedComplex: p-value = 1.0451820186219152e-05\n"
     ]
    },
    {
     "data": {
      "text/html": [
       "<span style='color: green;'>Simple vs Complex, N = 49: p-value = 7.105427357601002e-15</span>"
      ],
      "text/plain": [
       "<IPython.core.display.HTML object>"
      ]
     },
     "metadata": {},
     "output_type": "display_data"
    },
    {
     "data": {
      "text/html": [
       "<span style='color: green;'>ComposedSimple vs ComposedComplex, N = 50: p-value = 1.0451820186219152e-05</span>"
      ],
      "text/plain": [
       "<IPython.core.display.HTML object>"
      ]
     },
     "metadata": {},
     "output_type": "display_data"
    },
    {
     "data": {
      "image/png": "[encoded data removed]",
      "text/plain": [
       "<Figure size 1000x600 with 1 Axes>"
      ]
     },
     "metadata": {},
     "output_type": "display_data"
    }
   ],
   "source": [
    "### Run count -> visual associations/ cognitive integration\n",
    "measure = 'AOI run count'\n",
    "col = 'AOIRunCount'\n",
    "\n",
    "#detect dwells\n",
    "\n",
    "# Keep only MainQuestions\n",
    "f_eifaData = eifaData[eifaData['Type2'] == 'MainQuestion'].copy(deep=True)\n",
    "\n",
    "#Keep only fixations\n",
    "f_eifaData = f_eifaData.loc[(~f_eifaData['FixID'].isna()) & (~f_eifaData['currentQuestion'].isna())].copy(deep=True)\n",
    "\n",
    "# Group by consecutive element and aggr by fixation Count -> obtained dwells\n",
    "f_eifaData[\"elementCopy\"] = f_eifaData[\"element\"]\n",
    "# f_eifaData_gr = f_eifaData.groupby([(f_eifaData['elementCopy'].shift() != f_eifaData['elementCopy']).cumsum(),'element','tabName','participant','currentQuestion','Type1','Type2','Type3','Type4','ComparisionGroup'], as_index=False).agg(FixationCountPerDwell=('FixID', 'count'))\n",
    "f_eifaData_gr = f_eifaData.groupby([(f_eifaData['elementCopy'].shift() != f_eifaData['elementCopy']).cumsum(),'element','tabName','participant','currentQuestion','Type1','Type2','Type3','Type4','Type5','ComparisionGroup'], as_index=False).agg(FixationCountPerDwell=('FixID', 'count'))\n",
    "\n",
    "f_eifaData_gr = f_eifaData_gr.reset_index(drop=True)\n",
    "\n",
    "#identify transitions\n",
    "transitions = pd.DataFrame()\n",
    "# /!\\ UPDATE 'identifyTransition' when columns in the dataset change /!\\\n",
    "# transitions[['participant','currentQuestion','Type1','Type3','Type4','tabName','TransitionSource','TransitionTarget','ComparisionGroup']] = f_eifaData_gr.apply(lambda x: identifyTransition(f_eifaData_gr,x.name), axis=1)\n",
    "transitions[['participant','currentQuestion','Type1','Type3','Type4','Type5','tabName','TransitionSource','TransitionTarget','ComparisionGroup']] = f_eifaData_gr.apply(lambda x: identifyTransition(f_eifaData_gr,x.name), axis=1)\n",
    "#keep only transitions from AOI to AOI\n",
    "transitions = transitions[(~transitions['TransitionSource'].isna()) & (~transitions['TransitionTarget'].isna())]\n",
    "transitions = transitions.reset_index(drop=True)\n",
    "#add measure attribute\n",
    "transitions[col] = 1\n",
    "\n",
    "_df = transitions\n",
    "\n",
    "# means = compute_grouped_mean_AOIRunCount(transitions, ['Type3','Type4'], ['participant', 'currentQuestion'], col, additional_filters= {\n",
    "#     'Type1':'Coarse',\n",
    "#     })\n",
    "# means = compute_grouped_mean_AOIRunCount(_df, ['Type3','Type5'], ['participant', 'currentQuestion'], col, additional_filters= {})\n",
    "means, _ = compute_grouped_mean(_df, ['Type3','Type5'], ['participant', 'currentQuestion'], col, \n",
    "                                measure_type='AOIRunCount', measure_type_attr={}, keepExactValues = False,\n",
    "                                measure_out=None, \n",
    "                                additional_filters=None)\n",
    "\n",
    "# Pivot the table\n",
    "# pivot_df = means.pivot_table(index='Type3', columns='Type4', values=col)\n",
    "pivot_df = means.pivot_table(index='Type3', columns='Type5', values=col)\n",
    "pivot_df = pivot_df.loc[:,['Simple', 'Complex', 'ComposedSimple', 'ComposedComplex']]\n",
    "# Display the pivoted data\n",
    "display(pivot_df)\n",
    "\n",
    "conditions = [('Simple', 'Complex'), ('ComposedSimple', 'ComposedComplex')]\n",
    "for type3 in ['essentialComlexity','accidentalComlexity']:\n",
    "    print(type3)\n",
    "    # res = inf_test_AOIRunCount(transitions, ['participant', 'ComparisionGroup','currentQuestion','Type4','Type3'], col, 'Type4', conditions, additional_filters=\n",
    "    #                             {\n",
    "    #                              'Type1': 'Coarse',\n",
    "    #                             'Type3': type3})\n",
    "    _grouped_col = ['participant', 'ComparisionGroup','currentQuestion','Type5','Type3']\n",
    "    _conditionsMergeOn = _grouped_col[:2]\n",
    "    _mergeCols = _grouped_col[:3]\n",
    "    _stat, _p, _n = inferenceTest(_df, \n",
    "                                  _grouped_col, col, 'count', \n",
    "                                  'Type5', conditions, _conditionsMergeOn, _mergeCols, \n",
    "                                  additional_filters = {'Type3': type3})\n",
    "    \n",
    "    for _i in range(len(conditions)):\n",
    "        display(HTML(f\"<span style='color: {'green' if _p[_i] < 0.05 else 'red'};'>\" +\n",
    "                     f\"{conditions[_i][0]} vs {conditions[_i][1]}, N = {_n[_i]}: p-value = {_p[_i]}</span>\"))\n",
    "    \n",
    "\n",
    "comparison_runcount = {'label': measure, 'means': means, 'pivot': pivot_df, 'measure': col}\n",
    "\n",
    "plotComparison(pivot_df, measure)"
   ]
  },
  {
   "cell_type": "code",
   "execution_count": 14,
   "id": "a71c67a3",
   "metadata": {},
   "outputs": [
    {
     "data": {
      "application/vnd.microsoft.datawrangler.viewer.v0+json": {
       "columns": [
        {
         "name": "Type3",
         "rawType": "object",
         "type": "string"
        },
        {
         "name": "Simple",
         "rawType": "float64",
         "type": "float"
        },
        {
         "name": "Complex",
         "rawType": "float64",
         "type": "float"
        },
        {
         "name": "ComposedSimple",
         "rawType": "float64",
         "type": "float"
        },
        {
         "name": "ComposedComplex",
         "rawType": "float64",
         "type": "float"
        }
       ],
       "ref": "8cd07b4f-0203-40cd-b51d-21442f402583",
       "rows": [
        [
         "accidentalComlexity",
         "27.857142857142858",
         "71.18",
         "36.7",
         "62.3"
        ],
        [
         "essentialComlexity",
         "27.857142857142858",
         "85.48",
         "53.8",
         "83.56"
        ]
       ],
       "shape": {
        "columns": 4,
        "rows": 2
       }
      },
      "text/html": [
       "<div>\n",
       "<style scoped>\n",
       "    .dataframe tbody tr th:only-of-type {\n",
       "        vertical-align: middle;\n",
       "    }\n",
       "\n",
       "    .dataframe tbody tr th {\n",
       "        vertical-align: top;\n",
       "    }\n",
       "\n",
       "    .dataframe thead th {\n",
       "        text-align: right;\n",
       "    }\n",
       "</style>\n",
       "<table border=\"1\" class=\"dataframe\">\n",
       "  <thead>\n",
       "    <tr style=\"text-align: right;\">\n",
       "      <th>Type5</th>\n",
       "      <th>Simple</th>\n",
       "      <th>Complex</th>\n",
       "      <th>ComposedSimple</th>\n",
       "      <th>ComposedComplex</th>\n",
       "    </tr>\n",
       "    <tr>\n",
       "      <th>Type3</th>\n",
       "      <th></th>\n",
       "      <th></th>\n",
       "      <th></th>\n",
       "      <th></th>\n",
       "    </tr>\n",
       "  </thead>\n",
       "  <tbody>\n",
       "    <tr>\n",
       "      <th>accidentalComlexity</th>\n",
       "      <td>27.857143</td>\n",
       "      <td>71.18</td>\n",
       "      <td>36.7</td>\n",
       "      <td>62.30</td>\n",
       "    </tr>\n",
       "    <tr>\n",
       "      <th>essentialComlexity</th>\n",
       "      <td>27.857143</td>\n",
       "      <td>85.48</td>\n",
       "      <td>53.8</td>\n",
       "      <td>83.56</td>\n",
       "    </tr>\n",
       "  </tbody>\n",
       "</table>\n",
       "</div>"
      ],
      "text/plain": [
       "Type5                   Simple  Complex  ComposedSimple  ComposedComplex\n",
       "Type3                                                                   \n",
       "accidentalComlexity  27.857143    71.18            36.7            62.30\n",
       "essentialComlexity   27.857143    85.48            53.8            83.56"
      ]
     },
     "metadata": {},
     "output_type": "display_data"
    },
    {
     "name": "stdout",
     "output_type": "stream",
     "text": [
      "essentialComlexity\n",
      "Simple vs Complex: p-value = 7.105427357601002e-15\n",
      "ComposedSimple vs ComposedComplex: p-value = 1.6015611617348213e-05\n"
     ]
    },
    {
     "data": {
      "text/html": [
       "<span style='color: green;'>Simple vs Complex, N = 48: p-value = 7.105427357601002e-15</span>"
      ],
      "text/plain": [
       "<IPython.core.display.HTML object>"
      ]
     },
     "metadata": {},
     "output_type": "display_data"
    },
    {
     "data": {
      "text/html": [
       "<span style='color: green;'>ComposedSimple vs ComposedComplex, N = 49: p-value = 1.6015611617348213e-05</span>"
      ],
      "text/plain": [
       "<IPython.core.display.HTML object>"
      ]
     },
     "metadata": {},
     "output_type": "display_data"
    },
    {
     "name": "stdout",
     "output_type": "stream",
     "text": [
      "accidentalComlexity\n",
      "Simple vs Complex: p-value = 3.552713678800501e-15\n",
      "ComposedSimple vs ComposedComplex: p-value = 3.38235121510877e-06\n"
     ]
    },
    {
     "data": {
      "text/html": [
       "<span style='color: green;'>Simple vs Complex, N = 49: p-value = 3.552713678800501e-15</span>"
      ],
      "text/plain": [
       "<IPython.core.display.HTML object>"
      ]
     },
     "metadata": {},
     "output_type": "display_data"
    },
    {
     "data": {
      "text/html": [
       "<span style='color: green;'>ComposedSimple vs ComposedComplex, N = 50: p-value = 3.38235121510877e-06</span>"
      ],
      "text/plain": [
       "<IPython.core.display.HTML object>"
      ]
     },
     "metadata": {},
     "output_type": "display_data"
    },
    {
     "data": {
      "image/png": "[encoded data removed]",
      "text/plain": [
       "<Figure size 1000x600 with 1 Axes>"
      ]
     },
     "metadata": {},
     "output_type": "display_data"
    }
   ],
   "source": [
    "### AVERAGE COUNT OF FIXATIONS ABOVE 250MS (MENTAL PROCESSING)\n",
    "measure = '#Fix. > 250[ms] (mental processing)'\n",
    "col = 'Fixation Duration'\n",
    "\n",
    "#select fixation data and drop na\n",
    "fixationData = eifaData.loc[(~eifaData['FixID'].isna()) & (~eifaData['currentQuestion'].isna())].copy(deep=True)\n",
    "#set fixation threshold\n",
    "fixationData = fixationData[fixationData['Fixation Duration']>250]\n",
    "\n",
    "_df = fixationData\n",
    "\n",
    "# means = compute_grouped_mean_fixationCount(fixationData, ['Type4','Type3'], ['participant', 'currentQuestion'], measure_col=col, additional_filters= {\n",
    "#     'Type2':'MainQuestion',\n",
    "#     'Type1':'Coarse',\n",
    "#     })\n",
    "# means = compute_grouped_mean_fixationCount(fixationData, ['Type5','Type3'], ['participant', 'currentQuestion'], measure_col=col, additional_filters= {\n",
    "#     'Type2':'MainQuestion'\n",
    "#     })\n",
    "means, _ = compute_grouped_mean(fixationData, ['Type5','Type3'], ['participant', 'currentQuestion'], col, \n",
    "                                measure_type='FixationCount', measure_type_attr={}, keepExactValues = False,\n",
    "                                measure_out=None, \n",
    "                                additional_filters={'Type2':'MainQuestion'})\n",
    "\n",
    "\n",
    "\n",
    "# Pivot the table\n",
    "# pivot_df = means.pivot_table(index='Type3', columns='Type4', values=col)\n",
    "pivot_df = means.pivot_table(index='Type3', columns='Type5', values=col)\n",
    "pivot_df = pivot_df.loc[:,['Simple', 'Complex', 'ComposedSimple', 'ComposedComplex']]\n",
    "# Display the pivoted data\n",
    "display(pivot_df)\n",
    "\n",
    "conditions = [('Simple', 'Complex'), ('ComposedSimple', 'ComposedComplex')]\n",
    "for type3 in ['essentialComlexity','accidentalComlexity']:\n",
    "    print(type3)\n",
    "    # res = inf_test_fixationCount(fixationData, ['participant', 'ComparisionGroup','currentQuestion','Type4','Type3'], col, 'Type4', conditions, additional_filters=\n",
    "    #                             {'Type2': 'MainQuestion',\n",
    "    #                              'Type1': 'Coarse',\n",
    "    #                              'Type3': type3})\n",
    "    _grouped_col = ['participant', 'ComparisionGroup','currentQuestion','Type5','Type3']\n",
    "    _conditionsMergeOn = _grouped_col[:2]\n",
    "    _mergeCols = _grouped_col[:3]\n",
    "    _stat, _p, _n = inferenceTest(_df,  \n",
    "                                  _grouped_col, col, 'count', \n",
    "                                  'Type5', conditions, _conditionsMergeOn, _mergeCols, \n",
    "                                  additional_filters = {'Type2': 'MainQuestion', 'Type3': type3})\n",
    "    \n",
    "    for _i in range(len(conditions)):\n",
    "        display(HTML(f\"<span style='color: {'green' if _p[_i] < 0.05 else 'red'};'>\" +\n",
    "                     f\"{conditions[_i][0]} vs {conditions[_i][1]}, N = {_n[_i]}: p-value = {_p[_i]}</span>\"))\n",
    "    \n",
    "\n",
    "comparison_cntfix250 = {'label': measure, 'means': means, 'pivot': pivot_df, 'measure': col}\n",
    "\n",
    "plotComparison(pivot_df, measure)"
   ]
  },
  {
   "cell_type": "code",
   "execution_count": 15,
   "id": "a60303e9",
   "metadata": {},
   "outputs": [
    {
     "data": {
      "application/vnd.microsoft.datawrangler.viewer.v0+json": {
       "columns": [
        {
         "name": "Type3",
         "rawType": "object",
         "type": "string"
        },
        {
         "name": "Simple",
         "rawType": "float64",
         "type": "float"
        },
        {
         "name": "Complex",
         "rawType": "float64",
         "type": "float"
        },
        {
         "name": "ComposedSimple",
         "rawType": "float64",
         "type": "float"
        },
        {
         "name": "ComposedComplex",
         "rawType": "float64",
         "type": "float"
        }
       ],
       "ref": "f52f221c-fc50-4929-b6b7-c05ce08d863a",
       "rows": [
        [
         "accidentalComlexity",
         "4.25",
         "11.877551020408163",
         "5.08",
         "10.73469387755102"
        ],
        [
         "essentialComlexity",
         "4.25",
         "12.32",
         "7.326530612244898",
         "12.3"
        ]
       ],
       "shape": {
        "columns": 4,
        "rows": 2
       }
      },
      "text/html": [
       "<div>\n",
       "<style scoped>\n",
       "    .dataframe tbody tr th:only-of-type {\n",
       "        vertical-align: middle;\n",
       "    }\n",
       "\n",
       "    .dataframe tbody tr th {\n",
       "        vertical-align: top;\n",
       "    }\n",
       "\n",
       "    .dataframe thead th {\n",
       "        text-align: right;\n",
       "    }\n",
       "</style>\n",
       "<table border=\"1\" class=\"dataframe\">\n",
       "  <thead>\n",
       "    <tr style=\"text-align: right;\">\n",
       "      <th>Type5</th>\n",
       "      <th>Simple</th>\n",
       "      <th>Complex</th>\n",
       "      <th>ComposedSimple</th>\n",
       "      <th>ComposedComplex</th>\n",
       "    </tr>\n",
       "    <tr>\n",
       "      <th>Type3</th>\n",
       "      <th></th>\n",
       "      <th></th>\n",
       "      <th></th>\n",
       "      <th></th>\n",
       "    </tr>\n",
       "  </thead>\n",
       "  <tbody>\n",
       "    <tr>\n",
       "      <th>accidentalComlexity</th>\n",
       "      <td>4.25</td>\n",
       "      <td>11.877551</td>\n",
       "      <td>5.080000</td>\n",
       "      <td>10.734694</td>\n",
       "    </tr>\n",
       "    <tr>\n",
       "      <th>essentialComlexity</th>\n",
       "      <td>4.25</td>\n",
       "      <td>12.320000</td>\n",
       "      <td>7.326531</td>\n",
       "      <td>12.300000</td>\n",
       "    </tr>\n",
       "  </tbody>\n",
       "</table>\n",
       "</div>"
      ],
      "text/plain": [
       "Type5                Simple    Complex  ComposedSimple  ComposedComplex\n",
       "Type3                                                                  \n",
       "accidentalComlexity    4.25  11.877551        5.080000        10.734694\n",
       "essentialComlexity     4.25  12.320000        7.326531        12.300000"
      ]
     },
     "metadata": {},
     "output_type": "display_data"
    },
    {
     "name": "stdout",
     "output_type": "stream",
     "text": [
      "essentialComlexity\n",
      "Simple vs Complex: p-value = 6.076561476220377e-11\n",
      "ComposedSimple vs ComposedComplex: p-value = 8.290405602906503e-06\n"
     ]
    },
    {
     "data": {
      "text/html": [
       "<span style='color: green;'>Simple vs Complex, N = 45: p-value = 6.076561476220377e-11</span>"
      ],
      "text/plain": [
       "<IPython.core.display.HTML object>"
      ]
     },
     "metadata": {},
     "output_type": "display_data"
    },
    {
     "data": {
      "text/html": [
       "<span style='color: green;'>ComposedSimple vs ComposedComplex, N = 48: p-value = 8.290405602906503e-06</span>"
      ],
      "text/plain": [
       "<IPython.core.display.HTML object>"
      ]
     },
     "metadata": {},
     "output_type": "display_data"
    },
    {
     "name": "stdout",
     "output_type": "stream",
     "text": [
      "accidentalComlexity\n",
      "Simple vs Complex: p-value = 1.4149748039926635e-10\n",
      "ComposedSimple vs ComposedComplex: p-value = 2.2854558210383402e-06\n"
     ]
    },
    {
     "data": {
      "text/html": [
       "<span style='color: green;'>Simple vs Complex, N = 47: p-value = 1.4149748039926635e-10</span>"
      ],
      "text/plain": [
       "<IPython.core.display.HTML object>"
      ]
     },
     "metadata": {},
     "output_type": "display_data"
    },
    {
     "data": {
      "text/html": [
       "<span style='color: green;'>ComposedSimple vs ComposedComplex, N = 45: p-value = 2.2854558210383402e-06</span>"
      ],
      "text/plain": [
       "<IPython.core.display.HTML object>"
      ]
     },
     "metadata": {},
     "output_type": "display_data"
    },
    {
     "data": {
      "image/png": "[encoded data removed]",
      "text/plain": [
       "<Figure size 1000x600 with 1 Axes>"
      ]
     },
     "metadata": {},
     "output_type": "display_data"
    }
   ],
   "source": [
    "### AVERAGE COUNT OF FIXATIONS ABOVE 500MS (DEEP MENTAL PROCESSING)\n",
    "measure = '#Fix. > 500[ms] (deep mental processing)'\n",
    "col = 'Fixation Duration'\n",
    "\n",
    "#select fixation data and drop na\n",
    "fixationData = eifaData.loc[(~eifaData['FixID'].isna()) & (~eifaData['currentQuestion'].isna())].copy(deep=True)\n",
    "#set fixation threshold\n",
    "fixationData = fixationData[fixationData['Fixation Duration']>500]\n",
    "\n",
    "_df = fixationData\n",
    "\n",
    "# means =compute_grouped_mean_fixationCount(fixationData, ['Type4','Type3'], ['participant', 'currentQuestion'], measure_col=col, additional_filters= {\n",
    "#     'Type2':'MainQuestion',\n",
    "#     'Type1':'Coarse',\n",
    "#     })\n",
    "# means =compute_grouped_mean_fixationCount(fixationData, ['Type5','Type3'], ['participant', 'currentQuestion'], measure_col=col, additional_filters= {\n",
    "#     'Type2':'MainQuestion'\n",
    "#     })\n",
    "means, _ = compute_grouped_mean(fixationData, ['Type5','Type3'], ['participant', 'currentQuestion'], col, \n",
    "                                measure_type='FixationCount', measure_type_attr={}, keepExactValues = False,\n",
    "                                measure_out=None, \n",
    "                                additional_filters={'Type2':'MainQuestion'})\n",
    "\n",
    "# Pivot the table\n",
    "pivot_df = means.pivot_table(index='Type3', columns='Type5', values=col)\n",
    "pivot_df = pivot_df.loc[:,['Simple', 'Complex', 'ComposedSimple', 'ComposedComplex']]\n",
    "# Display the pivoted data\n",
    "display(pivot_df)\n",
    "\n",
    "conditions = [('Simple', 'Complex'), ('ComposedSimple', 'ComposedComplex')]\n",
    "for type3 in ['essentialComlexity','accidentalComlexity']:\n",
    "    print(type3)\n",
    "    # res = inf_test_fixationCount(fixationData, ['participant', 'ComparisionGroup','currentQuestion','Type4','Type3'], col, 'Type4', conditions, additional_filters=\n",
    "    #                             {'Type2': 'MainQuestion',\n",
    "    #                              'Type1': 'Coarse',\n",
    "    #                              'Type3': type3})\n",
    "    _grouped_col = ['participant', 'ComparisionGroup','currentQuestion','Type5','Type3']\n",
    "    _conditionsMergeOn = _grouped_col[:2]\n",
    "    _mergeCols = _grouped_col[:3]\n",
    "    _stat, _p, _n = inferenceTest(_df, \n",
    "                                  _grouped_col, col, 'count', \n",
    "                                  'Type5', conditions, _conditionsMergeOn, _mergeCols, \n",
    "                                  additional_filters = {'Type2': 'MainQuestion', 'Type3': type3})\n",
    "    \n",
    "    for _i in range(len(conditions)):\n",
    "        display(HTML(f\"<span style='color: {'green' if _p[_i] < 0.05 else 'red'};'>\" +\n",
    "                     f\"{conditions[_i][0]} vs {conditions[_i][1]}, N = {_n[_i]}: p-value = {_p[_i]}</span>\"))\n",
    "\n",
    "comparison_cntfix500 = {'label': measure, 'means': means, 'pivot': pivot_df, 'measure': col}\n",
    "\n",
    "plotComparison(pivot_df, measure)"
   ]
  },
  {
   "cell_type": "markdown",
   "id": "65a61275",
   "metadata": {},
   "source": [
    "#### Physiological Measures"
   ]
  },
  {
   "cell_type": "code",
   "execution_count": 16,
   "id": "02bca66c",
   "metadata": {},
   "outputs": [
    {
     "name": "stderr",
     "output_type": "stream",
     "text": [
      "c:\\DEV\\NASSY\\nassy-eyemind_plus-beta\\utils\\lhipa_utils.py:67: UserWarning: Input signal size (=91) lower than the minimum (=100). Returned NaN.\n",
      "  warn(f'Input signal size (={len(d)}) lower than the minimum (={min_sample_size}). Returned NaN.')\n",
      "c:\\DEV\\NASSY\\nassy-eyemind_plus-beta\\utils\\lhipa_utils.py:67: UserWarning: Input signal size (=89) lower than the minimum (=100). Returned NaN.\n",
      "  warn(f'Input signal size (={len(d)}) lower than the minimum (={min_sample_size}). Returned NaN.')\n"
     ]
    },
    {
     "data": {
      "application/vnd.microsoft.datawrangler.viewer.v0+json": {
       "columns": [
        {
         "name": "Type3",
         "rawType": "object",
         "type": "string"
        },
        {
         "name": "Simple",
         "rawType": "float64",
         "type": "float"
        },
        {
         "name": "Complex",
         "rawType": "float64",
         "type": "float"
        },
        {
         "name": "ComposedSimple",
         "rawType": "float64",
         "type": "float"
        },
        {
         "name": "ComposedComplex",
         "rawType": "float64",
         "type": "float"
        }
       ],
       "ref": "ce100848-3bb9-4dc7-98b7-b98e8c6a8616",
       "rows": [
        [
         "accidentalComlexity",
         "1.3233048608717857",
         "0.7854634199674425",
         "1.1432164118728094",
         "0.8487893224056"
        ],
        [
         "essentialComlexity",
         "1.3233048608717857",
         "0.6367134251045886",
         "0.9207951412915254",
         "0.6787838464050115"
        ]
       ],
       "shape": {
        "columns": 4,
        "rows": 2
       }
      },
      "text/html": [
       "<div>\n",
       "<style scoped>\n",
       "    .dataframe tbody tr th:only-of-type {\n",
       "        vertical-align: middle;\n",
       "    }\n",
       "\n",
       "    .dataframe tbody tr th {\n",
       "        vertical-align: top;\n",
       "    }\n",
       "\n",
       "    .dataframe thead th {\n",
       "        text-align: right;\n",
       "    }\n",
       "</style>\n",
       "<table border=\"1\" class=\"dataframe\">\n",
       "  <thead>\n",
       "    <tr style=\"text-align: right;\">\n",
       "      <th>Type5</th>\n",
       "      <th>Simple</th>\n",
       "      <th>Complex</th>\n",
       "      <th>ComposedSimple</th>\n",
       "      <th>ComposedComplex</th>\n",
       "    </tr>\n",
       "    <tr>\n",
       "      <th>Type3</th>\n",
       "      <th></th>\n",
       "      <th></th>\n",
       "      <th></th>\n",
       "      <th></th>\n",
       "    </tr>\n",
       "  </thead>\n",
       "  <tbody>\n",
       "    <tr>\n",
       "      <th>accidentalComlexity</th>\n",
       "      <td>1.323305</td>\n",
       "      <td>0.785463</td>\n",
       "      <td>1.143216</td>\n",
       "      <td>0.848789</td>\n",
       "    </tr>\n",
       "    <tr>\n",
       "      <th>essentialComlexity</th>\n",
       "      <td>1.323305</td>\n",
       "      <td>0.636713</td>\n",
       "      <td>0.920795</td>\n",
       "      <td>0.678784</td>\n",
       "    </tr>\n",
       "  </tbody>\n",
       "</table>\n",
       "</div>"
      ],
      "text/plain": [
       "Type5                  Simple   Complex  ComposedSimple  ComposedComplex\n",
       "Type3                                                                   \n",
       "accidentalComlexity  1.323305  0.785463        1.143216         0.848789\n",
       "essentialComlexity   1.323305  0.636713        0.920795         0.678784"
      ]
     },
     "metadata": {},
     "output_type": "display_data"
    },
    {
     "name": "stdout",
     "output_type": "stream",
     "text": [
      "essentialComlexity\n",
      "Simple vs Complex: p-value = 9.947598300641403e-14\n",
      "ComposedSimple vs ComposedComplex: p-value = 0.0006983914307809869\n"
     ]
    },
    {
     "data": {
      "text/html": [
       "<span style='color: green;'>Simple vs Complex, N = 48: p-value = 9.947598300641403e-14</span>"
      ],
      "text/plain": [
       "<IPython.core.display.HTML object>"
      ]
     },
     "metadata": {},
     "output_type": "display_data"
    },
    {
     "data": {
      "text/html": [
       "<span style='color: green;'>ComposedSimple vs ComposedComplex, N = 50: p-value = 0.0006983914307809869</span>"
      ],
      "text/plain": [
       "<IPython.core.display.HTML object>"
      ]
     },
     "metadata": {},
     "output_type": "display_data"
    },
    {
     "name": "stdout",
     "output_type": "stream",
     "text": [
      "accidentalComlexity\n",
      "Simple vs Complex: p-value = 2.3521806724602357e-09\n",
      "ComposedSimple vs ComposedComplex: p-value = 9.55255321741788e-05\n"
     ]
    },
    {
     "data": {
      "text/html": [
       "<span style='color: green;'>Simple vs Complex, N = 48: p-value = 2.3521806724602357e-09</span>"
      ],
      "text/plain": [
       "<IPython.core.display.HTML object>"
      ]
     },
     "metadata": {},
     "output_type": "display_data"
    },
    {
     "data": {
      "text/html": [
       "<span style='color: green;'>ComposedSimple vs ComposedComplex, N = 49: p-value = 9.55255321741788e-05</span>"
      ],
      "text/plain": [
       "<IPython.core.display.HTML object>"
      ]
     },
     "metadata": {},
     "output_type": "display_data"
    },
    {
     "data": {
      "image/png": "[encoded data removed]",
      "text/plain": [
       "<Figure size 1000x600 with 1 Axes>"
      ]
     },
     "metadata": {},
     "output_type": "display_data"
    }
   ],
   "source": [
    "### LHIPA\n",
    "measure = 'LHIPA'\n",
    "col = 'LHIPA'\n",
    "\n",
    "pupiFiltered_l = pupiFiltered[(pupiFiltered['Type2'] == 'MainQuestion') & (~pupiFiltered['tabName'].isna())].copy(deep=True)\n",
    "# pupiFiltered_l = pupiFiltered_l.groupby(['participant', 'currentQuestion', 'Type1', 'Type2','Type3','Type4','ComparisionGroup'])\n",
    "pupiFiltered_l = pupiFiltered_l.groupby(['participant', 'currentQuestion', 'Type2','Type3','Type5','ComparisionGroup'])\n",
    "\n",
    "## Compute LHIPA for each group - LHIPA is expected to decrease with increased cognitive load\n",
    "# Compute LHIPA with default 'sym5' wavelet\n",
    "_lhipa = lambda df: lhipa(df['pupilSize'], df['Timestamp'])\n",
    "pupiFiltered_l = pupiFiltered_l.apply(_lhipa).reset_index()\n",
    "pupiFiltered_l = pupiFiltered_l.rename(columns={0: col})\n",
    "\n",
    "_df = pupiFiltered_l\n",
    "\n",
    "# means = compute_grouped_mean(pupiFiltered_l, \n",
    "#                              ['Type3','Type4'], \n",
    "#                              ['participant', 'currentQuestion'], \n",
    "#                              col, additional_filters= {'Type2':'MainQuestion', 'Type1':'Coarse', })\n",
    "# means = compute_grouped_mean(_df, ['Type3','Type5'], ['participant', 'currentQuestion'], col, \n",
    "#                              additional_filters= {'Type2':'MainQuestion' })\n",
    "means, _ = compute_grouped_mean(_df, ['Type3','Type5'], ['participant', 'currentQuestion'], col, \n",
    "                                measure_type='default', measure_type_attr={}, keepExactValues = False,\n",
    "                                measure_out=None, \n",
    "                                additional_filters={'Type2':'MainQuestion' })\n",
    "\n",
    "\n",
    "# Pivot the table\n",
    "pivot_df = means.pivot_table(index='Type3', columns='Type5', values=col)\n",
    "pivot_df = pivot_df.loc[:,['Simple', 'Complex', 'ComposedSimple', 'ComposedComplex']]\n",
    "# Display the pivoted data\n",
    "display(pivot_df)\n",
    "\n",
    "# to double check\n",
    "conditions = [('Simple', 'Complex'), ('ComposedSimple', 'ComposedComplex')]\n",
    "for type3 in ['essentialComlexity','accidentalComlexity']:\n",
    "    print(type3)\n",
    "    # res = inf_test(pupiFiltered_l, ['participant', 'ComparisionGroup','currentQuestion','Type4','Type3'], col, 'Type4', conditions, additional_filters=\n",
    "    #                             {\n",
    "    #                              'Type2': 'MainQuestion',\n",
    "    #                              'Type1': 'Coarse',\n",
    "    #                             'Type3': type3})\n",
    "    _grouped_col = ['participant', 'ComparisionGroup','currentQuestion','Type5','Type3']\n",
    "    _conditionsMergeOn = _grouped_col[:2]\n",
    "    _mergeCols = _grouped_col[:3]\n",
    "    _stat, _p, _n = inferenceTest(_df, \n",
    "                                  _grouped_col, col, 'mean', \n",
    "                                  'Type5', conditions, _conditionsMergeOn, _mergeCols, \n",
    "                                  additional_filters = {'Type2': 'MainQuestion', 'Type3': type3})\n",
    "    \n",
    "    for _i in range(len(conditions)):\n",
    "        display(HTML(f\"<span style='color: {'green' if _p[_i] < 0.05 else 'red'};'>\" +\n",
    "                     f\"{conditions[_i][0]} vs {conditions[_i][1]}, N = {_n[_i]}: p-value = {_p[_i]}</span>\"))\n",
    "    \n",
    "\n",
    "comparison_lhipa = {'label': measure, 'means': means, 'pivot': pivot_df, 'measure': col}\n",
    "\n",
    "plotComparison(pivot_df, measure)"
   ]
  },
  {
   "cell_type": "markdown",
   "id": "3587cc81",
   "metadata": {},
   "source": [
    "## Summary\n",
    "Bars of representative metrics (one for each categories). The expected tendencies for simple and complex tasks are indicated in the legends as an arrow (pointing down for expected low value and conversely)."
   ]
  },
  {
   "cell_type": "code",
   "execution_count": 17,
   "id": "9a2347df",
   "metadata": {},
   "outputs": [
    {
     "data": {
      "image/png": "[encoded data removed]",
      "text/plain": [
       "<Figure size 1500x600 with 4 Axes>"
      ]
     },
     "metadata": {},
     "output_type": "display_data"
    }
   ],
   "source": [
    "class MyBars4:\n",
    "    kind = 'bar'\n",
    "    hatches = ['..', '..', 'xx', 'xx',\n",
    "               '--', '--', '||', '||']\n",
    "    colors = []\n",
    "    grays = ['.90', '.90', '.15', '.15',\n",
    "             '.70', '.70', '.35', '.35']\n",
    "\n",
    "    def __init__(self, fig = None, ax = None):\n",
    "        if fig is None or ax is None:\n",
    "            self.fig = plt.figure(layout='constrained', figsize=(15, 6))\n",
    "            self.ax = [None, None, None, None]\n",
    "        else:\n",
    "            self.fig, self.ax = fig, ax\n",
    "        \n",
    "        self.sf = self.fig.subfigures(1, 4, wspace=0.05)\n",
    "        self.ax = [sf.subplots() for sf in self.sf]\n",
    "        self.pivots = [None, None, None, None]\n",
    "        self.measures = [None, None, None, None]\n",
    "\n",
    "    # DEF: __init__\n",
    "\n",
    "    def set_bar(self, pos, pivot, measure):\n",
    "        if pos in range(4):\n",
    "            self.pivots[pos] = pivot\n",
    "            self.measures[pos] = measure\n",
    "\n",
    "            self.pivots[pos].plot(kind=MyBars4.kind, ax=self.ax[pos])\n",
    "            self.ax[pos].set_ylabel(self.measures[pos])\n",
    "\n",
    "            for _ax, h, c in zip(self.ax[pos].patches, MyBars4.hatches, MyBars4.grays):\n",
    "                _ax.set_hatch(h)\n",
    "                _ax.set_facecolor(c)\n",
    "        else:\n",
    "            raise IndexError('Position out of range (0:3).')\n",
    "    # DEF: set_bar\n",
    "\n",
    "    def set_title(self, pos, title):\n",
    "        if not(pos in range(-1,4)): raise IndexError('Position out of range (-1:3).')\n",
    "\n",
    "        if pos == -1: self.fig.suptitle(title, fontsize='x-large')\n",
    "        else: self.sf[pos].suptitle(title)\n",
    "    # DEF: set_title\n",
    "\n",
    "    def set_label(self, pos, axis, label):\n",
    "        if not(pos in range(4)): raise IndexError('Position out of range (0:3).')\n",
    "        \n",
    "        if (axis == 0) or (axis == 'x'):\n",
    "            self.ax[pos].set_xlabel(label)\n",
    "        elif (axis == 1) or (axis == 'y'):\n",
    "            self.ax[pos].set_ylabel(label)\n",
    "        else: raise IndexError(f'Unknown axis ({axis}).')\n",
    "    # DEF: set_ylabel\n",
    "    def set_ylabel(self, pos, label): self.set_label(pos, 1, label)\n",
    "    def set_xlabel(self, pos, label): self.set_label(pos, 0, label)\n",
    "\n",
    "# CLASS: MyBars4\n",
    "\n",
    "\n",
    "myBars = MyBars4()\n",
    "myBars.set_title(-1, 'Cognitive Load Measurements')\n",
    "\n",
    "myBars.set_bar(0, comparison_survey['pivot'], comparison_survey['measure'])\n",
    "myBars.set_xlabel(0, 'Complexity')\n",
    "myBars.ax[0].set_xticks([0,1], labels=['Essential','Accidental'], rotation = 0)\n",
    "myBars.set_ylabel(0, 'Difficulty Score')\n",
    "myBars.set_title(0, 'Subjective - ' + comparison_survey['label'])\n",
    "myBars.ax[0].set_ylim([0, 4])\n",
    "myBars.ax[0].legend(title='Task', loc='upper center')\n",
    "lg = myBars.ax[0].get_legend()\n",
    "lg.get_texts()[0].set_text(lg.get_texts()[0].get_text() + r'$\\searrow$')\n",
    "lg.get_texts()[1].set_text(lg.get_texts()[1].get_text() + r'$\\nearrow$')\n",
    "\n",
    "myBars.set_bar(1, comparison_time['pivot']/1000, comparison_time['measure'])\n",
    "myBars.set_xlabel(1, 'Complexity')\n",
    "myBars.ax[1].set_xticks([0,1], labels=['Essential','Accidental'], rotation = 0)\n",
    "myBars.set_ylabel(1, 'Time [s]')\n",
    "myBars.set_title(1, 'Performance - ' + comparison_time['label'])\n",
    "myBars.ax[1].set_ylim([0, 150])\n",
    "myBars.ax[1].legend(title='Task', loc='upper center')\n",
    "lg = myBars.ax[1].get_legend()\n",
    "lg.get_texts()[0].set_text(lg.get_texts()[0].get_text() + r'$\\searrow$')\n",
    "lg.get_texts()[1].set_text(lg.get_texts()[1].get_text() + r'$\\nearrow$')\n",
    "\n",
    "myBars.set_bar(2, comparison_runcount['pivot'], comparison_runcount['measure'])\n",
    "myBars.set_xlabel(2, 'Complexity')\n",
    "myBars.ax[2].set_xticks([0,1], labels=['Essential','Accidental'], rotation = 0)\n",
    "myBars.set_title(2, 'Behavioral - ' + comparison_runcount['label'])\n",
    "myBars.ax[2].legend(title='Task', loc='upper center')\n",
    "lg = myBars.ax[2].get_legend()\n",
    "lg.get_texts()[0].set_text(lg.get_texts()[0].get_text() + r'$\\searrow$')\n",
    "lg.get_texts()[1].set_text(lg.get_texts()[1].get_text() + r'$\\nearrow$')\n",
    "\n",
    "# myBars.set_bar(3, comparison_cntfix250['pivot'], comparison_cntfix250['measure'])\n",
    "# myBars.set_bar(3, comparison_cntfix500['pivot'], comparison_cntfix500['measure'])\n",
    "myBars.set_bar(3, comparison_lhipa['pivot'], comparison_lhipa['measure'])\n",
    "myBars.set_xlabel(3, 'Complexity')\n",
    "myBars.ax[3].set_xticks([0,1], labels=['Essential','Accidental'], rotation = 0)\n",
    "myBars.set_title(3, 'Physiological - ' + comparison_lhipa['label'])\n",
    "myBars.ax[3].legend(title='Task', loc='upper center')\n",
    "lg = myBars.ax[3].get_legend()\n",
    "lg.get_texts()[0].set_text(lg.get_texts()[0].get_text() + r'$\\nearrow$')\n",
    "lg.get_texts()[1].set_text(lg.get_texts()[1].get_text() + r'$\\searrow$')\n",
    "\n",
    "\n",
    "_dir = IMG_DIR + r\"\\Coarse-grained analysis 2\"\n",
    "if not os.path.isdir(_dir):\n",
    "    os.mkdir(_dir)\n",
    "plt.savefig(_dir + r\"\\Coarse-grained_analysis_comparaisons_measures.pdf\")\n",
    "plt.savefig(_dir + r\"\\Coarse-grained_analysis_comparaisons_measures.png\")\n",
    "\n",
    "\n",
    "plt.show()"
   ]
  }
 ],
 "metadata": {
  "kernelspec": {
   "display_name": "Python 3",
   "language": "python",
   "name": "python3"
  },
  "language_info": {
   "codemirror_mode": {
    "name": "ipython",
    "version": 3
   },
   "file_extension": ".py",
   "mimetype": "text/x-python",
   "name": "python",
   "nbconvert_exporter": "python",
   "pygments_lexer": "ipython3",
   "version": "3.10.7"
  }
 },
 "nbformat": 4,
 "nbformat_minor": 5
}
